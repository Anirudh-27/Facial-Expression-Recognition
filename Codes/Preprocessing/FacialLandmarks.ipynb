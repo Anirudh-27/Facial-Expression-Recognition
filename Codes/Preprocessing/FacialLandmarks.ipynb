{
  "nbformat": 4,
  "nbformat_minor": 0,
  "metadata": {
    "colab": {
      "name": "Facial_Landmarks.ipynb",
      "provenance": [],
      "collapsed_sections": []
    },
    "kernelspec": {
      "name": "python3",
      "display_name": "Python 3"
    }
  },
  "cells": [
    {
      "cell_type": "code",
      "metadata": {
        "id": "E2WuNjoR5xdf"
      },
      "source": [
        "root = \"/content/drive/My Drive/FER/\"\n",
        "# import the necessary packages\n",
        "from imutils import face_utils\n",
        "import numpy as np\n",
        "import imutils\n",
        "import dlib\n",
        "import cv2\n",
        "from google.colab.patches import cv2_imshow"
      ],
      "execution_count": null,
      "outputs": []
    },
    {
      "cell_type": "code",
      "metadata": {
        "id": "17vXSZoG6Zb8"
      },
      "source": [
        "# initialize dlib's face detector (HOG-based) and then create the facial landmark predictor\n",
        "detector = dlib.get_frontal_face_detector()\n",
        "predictor = dlib.shape_predictor(root+\"Dataset/FER-2013/shape_predictor_68_face_landmarks.dat\")"
      ],
      "execution_count": null,
      "outputs": []
    },
    {
      "cell_type": "code",
      "metadata": {
        "id": "Uvc2LAj86dKx"
      },
      "source": [
        "# load the input image, resize it, and convert it to grayscale\n",
        "image = cv2.imread(root+\"Dataset/FER-2013/Training_11204.jpg\")\n",
        "image = imutils.resize(image, width=48)\n",
        "gray = cv2.cvtColor(image, cv2.COLOR_BGR2GRAY)"
      ],
      "execution_count": null,
      "outputs": []
    },
    {
      "cell_type": "code",
      "metadata": {
        "id": "dqZvB6JT6f3g",
        "colab": {
          "base_uri": "https://localhost:8080/",
          "height": 117
        },
        "outputId": "f7d2ba7e-b124-4157-9310-0a77ae94dc01"
      },
      "source": [
        "# detect faces in the grayscale image\n",
        "rects = detector(gray, 1)\n",
        "\n",
        "# Passes through loop if no face found\n",
        "# loop over the face detections\n",
        "for (i, rect) in enumerate(rects):\n",
        "\t# determine the facial landmarks for the face region, then convert the facial landmark (x, y)-coordinates to a NumPy array\n",
        "\tshape = predictor(gray, rect)\n",
        "\tshape = face_utils.shape_to_np(shape)\n",
        "\n",
        "\t# convert dlib's rectangle to a OpenCV-style bounding box [i.e., (x, y, w, h)], then draw the face bounding box\n",
        "\t#(x, y, w, h) = face_utils.rect_to_bb(rect)\n",
        "\t#cv2.rectangle(image, (x,y), (x+w,y+h), (0,255,0), 2)\n",
        "\n",
        "\t# show the face number\n",
        "\t#cv2.putText(image, \"Face #{}\".format(i+1), (x-10,y-10),cv2.FONT_HERSHEY_SIMPLEX, 0.5, (0,255,0), 2)\n",
        "\n",
        "\t# loop over the (x, y)-coordinates for the facial landmarks and draw them on the image\n",
        "\tfor (x, y) in shape:\n",
        "\t\tcv2.circle(image, (x,y), 1, (0,0,255), -1)\n",
        "\n",
        "# show the output image with the face detections + facial landmarks\n",
        "cv2_imshow(image)"
      ],
      "execution_count": null,
      "outputs": [
        {
          "output_type": "display_data",
          "data": {
            "image/png": "[encoded data removed]",
            "text/plain": [
              "<PIL.Image.Image image mode=RGB size=100x100 at 0x7F907F7CEA90>"
            ]
          },
          "metadata": {
            "tags": []
          }
        }
      ]
    }
  ]
}