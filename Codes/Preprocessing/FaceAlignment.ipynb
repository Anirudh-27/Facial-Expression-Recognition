{
  "nbformat": 4,
  "nbformat_minor": 0,
  "metadata": {
    "colab": {
      "name": "FaceAlignment.ipynb",
      "provenance": [],
      "collapsed_sections": []
    },
    "kernelspec": {
      "name": "python3",
      "display_name": "Python 3"
    }
  },
  "cells": [
    {
      "cell_type": "code",
      "metadata": {
        "id": "omNOS_5g8m5z"
      },
      "source": [
        "root = \"/content/drive/My Drive/FER/\"\n",
        "from imutils.face_utils import FaceAligner\n",
        "from imutils.face_utils import rect_to_bb\n",
        "import numpy as np\n",
        "import imutils\n",
        "import dlib\n",
        "import cv2\n",
        "from google.colab.patches import cv2_imshow"
      ],
      "execution_count": null,
      "outputs": []
    },
    {
      "cell_type": "code",
      "metadata": {
        "id": "EKQmt4Xd-Nwg",
        "colab": {
          "base_uri": "https://localhost:8080/",
          "height": 120
        },
        "outputId": "a9d3270f-e2f6-4214-bf8e-4321934b6868"
      },
      "source": [
        "#Face Aligner\n",
        "\"\"\"\n",
        "class FaceAligner:\n",
        "    def __init__(self,predictor,desiredLeftEye=(0.35,0.35),desiredFaceWidth=48,desiredFaceHeight=None):\n",
        "        self.predictor = predictor\n",
        "        self.desiredLeftEye = desiredLeftEye\n",
        "        self.desiredFaceWidth = desiredFaceWidth\n",
        "        self.desiredFaceHeight = desiredFaceHeight\n",
        "        \n",
        "        if self.desiredFaceHeight is None:\n",
        "            self.desiredFaceHeight = self.desiredFaceWidth\n",
        "    \n",
        "    def align(self,image,gray,rect):\n",
        "        shape = self.predictor(gray,rect)\n",
        "        shape = shape_to_np(shape)\n",
        "        \n",
        "        (lStart, lEnd) = FACIAL_LANDMARKS_IDXS[\"left_eye\"]\n",
        "        (rStart, rEnd) = FACIAL_LANDMARKS_IDXS[\"right_eye\"]\n",
        "        leftEyePts = shape[lStart:lEnd]\n",
        "        rightEyePts = shape[rStart:rEnd]\n",
        "        \n",
        "        leftEyeCenter = leftEyePts.mean(axis=0).astype(\"int\")\n",
        "        rightEyeCenter = rightEyePts.mean(axis=0).astype(\"int\")\n",
        "        \n",
        "        dY = rightEyeCenter[1] - leftEyeCenter[1]\n",
        "        dX = rightEyeCenter[0] - leftEyeCenter[0]\n",
        "        angle = np.degrees(np.arctan2(dY, dX)) - 180\n",
        "        desiredRightEyeX = 1.0 - self.desiredLeftEye[0]\n",
        "        \n",
        "        dist = np.sqrt((dX ** 2) + (dY ** 2))\n",
        "        desiredDist = (desiredRightEyeX - self.desiredLeftEye[0])\n",
        "        desiredDist *= self.desiredFaceWidth\n",
        "        scale = desiredDist / dist\n",
        "        \n",
        "        eyesCenter = ((leftEyeCenter[0] + rightEyeCenter[0]) // 2,(leftEyeCenter[1] + rightEyeCenter[1]) // 2)\n",
        "        M = cv2.getRotationMatrix2D(eyesCenter, angle, scale)\n",
        "        tX = self.desiredFaceWidth * 0.5\n",
        "        tY = self.desiredFaceHeight * self.desiredLeftEye[1]\n",
        "        M[0, 2] += (tX - eyesCenter[0])\n",
        "        M[1, 2] += (tY - eyesCenter[1])\n",
        "        \n",
        "        (w, h) = (self.desiredFaceWidth, self.desiredFaceHeight)\n",
        "        output = cv2.warpAffine(image, M, (w, h),flags=cv2.INTER_CUBIC)\n",
        "        return output\n",
        "\"\"\"\n"
      ],
      "execution_count": null,
      "outputs": [
        {
          "output_type": "execute_result",
          "data": {
            "application/vnd.google.colaboratory.intrinsic+json": {
              "type": "string"
            },
            "text/plain": [
              "'\\nclass FaceAligner:\\n    def __init__(self,predictor,desiredLeftEye=(0.35,0.35),desiredFaceWidth=48,desiredFaceHeight=None):\\n        self.predictor = predictor\\n        self.desiredLeftEye = desiredLeftEye\\n        self.desiredFaceWidth = desiredFaceWidth\\n        self.desiredFaceHeight = desiredFaceHeight\\n        \\n        if self.desiredFaceHeight is None:\\n            self.desiredFaceHeight = self.desiredFaceWidth\\n    \\n    def align(self,image,gray,rect):\\n        shape = self.predictor(gray,rect)\\n        shape = shape_to_np(shape)\\n        \\n        (lStart, lEnd) = FACIAL_LANDMARKS_IDXS[\"left_eye\"]\\n        (rStart, rEnd) = FACIAL_LANDMARKS_IDXS[\"right_eye\"]\\n        leftEyePts = shape[lStart:lEnd]\\n        rightEyePts = shape[rStart:rEnd]\\n        \\n        leftEyeCenter = leftEyePts.mean(axis=0).astype(\"int\")\\n        rightEyeCenter = rightEyePts.mean(axis=0).astype(\"int\")\\n        \\n        dY = rightEyeCenter[1] - leftEyeCenter[1]\\n        dX = rightEyeCenter[0] - leftEyeCenter[0]\\n        angle = np.degrees(np.arctan2(dY, dX)) - 180\\n        desiredRightEyeX = 1.0 - self.desiredLeftEye[0]\\n        \\n        dist = np.sqrt((dX ** 2) + (dY ** 2))\\n        desiredDist = (desiredRightEyeX - self.desiredLeftEye[0])\\n        desiredDist *= self.desiredFaceWidth\\n        scale = desiredDist / dist\\n        \\n        eyesCenter = ((leftEyeCenter[0] + rightEyeCenter[0]) // 2,(leftEyeCenter[1] + rightEyeCenter[1]) // 2)\\n        M = cv2.getRotationMatrix2D(eyesCenter, angle, scale)\\n        tX = self.desiredFaceWidth * 0.5\\n        tY = self.desiredFaceHeight * self.desiredLeftEye[1]\\n        M[0, 2] += (tX - eyesCenter[0])\\n        M[1, 2] += (tY - eyesCenter[1])\\n        \\n        (w, h) = (self.desiredFaceWidth, self.desiredFaceHeight)\\n        output = cv2.warpAffine(image, M, (w, h),flags=cv2.INTER_CUBIC)\\n        return output\\n'"
            ]
          },
          "metadata": {
            "tags": []
          },
          "execution_count": 2
        }
      ]
    },
    {
      "cell_type": "code",
      "metadata": {
        "id": "I4QeNpUr-SU8"
      },
      "source": [
        "detector = dlib.get_frontal_face_detector()\n",
        "predictor = dlib.shape_predictor(root+\"Dataset/FER-2013/shape_predictor_68_face_landmarks.dat\")\n",
        "fa = FaceAligner(predictor, desiredFaceWidth=48)"
      ],
      "execution_count": null,
      "outputs": []
    },
    {
      "cell_type": "code",
      "metadata": {
        "id": "Vh0FfNVi-Xle"
      },
      "source": [
        "image = cv2.imread(root+\"Dataset/FER-2013/Training_11204.jpg\")\n",
        "image = imutils.resize(image, width=100)\n",
        "gray = cv2.cvtColor(image, cv2.COLOR_BGR2GRAY)"
      ],
      "execution_count": null,
      "outputs": []
    },
    {
      "cell_type": "code",
      "metadata": {
        "id": "vFuvZTgU-afL",
        "colab": {
          "base_uri": "https://localhost:8080/",
          "height": 234
        },
        "outputId": "848ae688-8ff4-43d3-c880-f49d2dc3ee8f"
      },
      "source": [
        "cv2_imshow(image)\n",
        "rects = detector(gray, 1)\n",
        "\n",
        "print(\" \")\n",
        "\n",
        "#Passes through for loop if no face found \n",
        "for rect in rects:\n",
        "\t# extract the ROI of the *original* face, then align the face using facial landmarks\n",
        "\t(x, y, w, h) = rect_to_bb(rect)\n",
        "\t#faceOrig = imutils.resize(image[y:y+h, x:x+w], width=48)\n",
        "\tfaceAligned = fa.align(image, gray, rect)\n",
        "\t#cv2_imshow(faceOrig)\n",
        "\tcv2_imshow(faceAligned)\n",
        "\tcv2.waitKey(0)\n"
      ],
      "execution_count": null,
      "outputs": [
        {
          "output_type": "display_data",
          "data": {
            "image/png": "[encoded data removed]",
            "text/plain": [
              "<PIL.Image.Image image mode=RGB size=100x100 at 0x7F5A5175E2B0>"
            ]
          },
          "metadata": {
            "tags": []
          }
        },
        {
          "output_type": "stream",
          "text": [
            " \n"
          ],
          "name": "stdout"
        },
        {
          "output_type": "display_data",
          "data": {
            "image/png": "[encoded data removed]",
            "text/plain": [
              "<PIL.Image.Image image mode=RGB size=100x100 at 0x7F5A5175E3C8>"
            ]
          },
          "metadata": {
            "tags": []
          }
        }
      ]
    },
    {
      "cell_type": "code",
      "metadata": {
        "id": "VfC_WFl-1luu",
        "colab": {
          "base_uri": "https://localhost:8080/",
          "height": 34
        },
        "outputId": "9c31c0b9-44e6-4fbf-8ee3-93818aa9a5f0"
      },
      "source": [
        "rects"
      ],
      "execution_count": null,
      "outputs": [
        {
          "output_type": "execute_result",
          "data": {
            "text/plain": [
              "rectangles[[(6, 7) (96, 96)]]"
            ]
          },
          "metadata": {
            "tags": []
          },
          "execution_count": 18
        }
      ]
    }
  ]
}